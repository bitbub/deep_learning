{
 "cells": [
  {
   "cell_type": "markdown",
   "metadata": {},
   "source": [
    "# Save, Load and Export Models in Keras"
   ]
  },
  {
   "cell_type": "markdown",
   "metadata": {},
   "source": [
    "## Task 1: Import Libraries"
   ]
  },
  {
   "cell_type": "code",
   "execution_count": 1,
   "metadata": {},
   "outputs": [
    {
     "name": "stdout",
     "output_type": "stream",
     "text": [
      "This notebook works with TensorFlow version: 2.0.1\n",
      "['.ipynb_checkpoints', 'models', 'model_name', 'Student Notebook.ipynb', 'tmp', 'weights']\n"
     ]
    }
   ],
   "source": [
    "import tensorflow as tf\n",
    "import numpy as np\n",
    "import os\n",
    "\n",
    "print('This notebook works with TensorFlow version:', tf.__version__)\n",
    "\n",
    "folders = ['tmp', 'models', 'model_name', 'weights']\n",
    "for folder in folders:\n",
    "    if not os.path.isdir(folder):\n",
    "        os.mkdir(folder)\n",
    "\n",
    "print(os.listdir('.'))"
   ]
  },
  {
   "cell_type": "markdown",
   "metadata": {},
   "source": [
    "## Task 2: Create Model"
   ]
  },
  {
   "cell_type": "code",
   "execution_count": 2,
   "metadata": {},
   "outputs": [
    {
     "name": "stdout",
     "output_type": "stream",
     "text": [
      "Model: \"sequential\"\n",
      "_________________________________________________________________\n",
      "Layer (type)                 Output Shape              Param #   \n",
      "=================================================================\n",
      "dense (Dense)                (None, 128)               100480    \n",
      "_________________________________________________________________\n",
      "dense_1 (Dense)              (None, 128)               16512     \n",
      "_________________________________________________________________\n",
      "dense_2 (Dense)              (None, 10)                1290      \n",
      "=================================================================\n",
      "Total params: 118,282\n",
      "Trainable params: 118,282\n",
      "Non-trainable params: 0\n",
      "_________________________________________________________________\n"
     ]
    }
   ],
   "source": [
    "## create model architechture, compile and summarize.\n",
    "def create_model():\n",
    "    \n",
    "    model = tf.keras.models.Sequential([\n",
    "        tf.keras.layers.Dense(units=128, input_shape=(784,), activation='relu'),\n",
    "        tf.keras.layers.Dense(units=128, activation='relu'),\n",
    "        tf.keras.layers.Dense(units=10, activation='softmax')\n",
    "    ])\n",
    "    \n",
    "    model.compile( loss = 'categorical_crossentropy',\n",
    "                    optimizer = 'adam',\n",
    "                    metrics = ['accuracy']\n",
    "                  )\n",
    "    return model\n",
    "\n",
    "model = create_model()\n",
    "model.summary()"
   ]
  },
  {
   "cell_type": "markdown",
   "metadata": {},
   "source": [
    "## Task 3: Data Preprocessing"
   ]
  },
  {
   "cell_type": "code",
   "execution_count": 3,
   "metadata": {},
   "outputs": [],
   "source": [
    "## import fashion-mnist data from keras.\n",
    "(x_train, y_train), (x_test, y_test) = tf.keras.datasets.fashion_mnist.load_data()\n",
    "\n",
    "## reshape and normalize the data.\n",
    "x_train = np.reshape(x_train, (x_train.shape[0], 784 ))/255.\n",
    "x_test = np.reshape(x_test, (x_test.shape[0], 784 ))/255.\n",
    "\n",
    "#one-hot encoding labels.\n",
    "y_train = tf.keras.utils.to_categorical(y_train)\n",
    "y_test = tf.keras.utils.to_categorical(y_test)"
   ]
  },
  {
   "cell_type": "markdown",
   "metadata": {},
   "source": [
    "## Task 4: Model Checkpoint During Training"
   ]
  },
  {
   "cell_type": "code",
   "execution_count": 4,
   "metadata": {},
   "outputs": [
    {
     "name": "stdout",
     "output_type": "stream",
     "text": [
      "Train on 60000 samples, validate on 10000 samples\n",
      "Epoch 1/2\n",
      "60000/60000 [==============================] - 5s 86us/sample - loss: 0.6838 - accuracy: 0.7702 - val_loss: 0.4988 - val_accuracy: 0.8242\n",
      "Epoch 2/2\n",
      "60000/60000 [==============================] - 4s 69us/sample - loss: 0.4276 - accuracy: 0.8510 - val_loss: 0.4314 - val_accuracy: 0.8459\n"
     ]
    }
   ],
   "source": [
    "## save model weights\n",
    "checkpoint_dir = 'weights/'\n",
    "_ = model.fit(x_train, y_train,\n",
    "            validation_data=(x_test, y_test),\n",
    "            epochs=2,\n",
    "            batch_size=512,\n",
    "            callbacks = [\n",
    "                tf.keras.callbacks.ModelCheckpoint(\n",
    "                                                os.path.join(checkpoint_dir, 'epoch_{epoch:02d}_accuracy_{val_accuracy:.4f}'),\n",
    "                                                monitor='val_accuracy',\n",
    "                                                save_best_only=True,\n",
    "                                                save_weights_only=True\n",
    "                                                )\n",
    "                        ]\n",
    "             )"
   ]
  },
  {
   "cell_type": "code",
   "execution_count": 5,
   "metadata": {},
   "outputs": [
    {
     "data": {
      "text/plain": [
       "['checkpoint',\n",
       " 'epoch_01_accuracy_0.8242.data-00000-of-00001',\n",
       " 'epoch_01_accuracy_0.8242.index',\n",
       " 'epoch_01_accuracy_0.8247.data-00000-of-00001',\n",
       " 'epoch_01_accuracy_0.8247.index',\n",
       " 'epoch_01_accuracy_0.8341.data-00000-of-00001',\n",
       " 'epoch_01_accuracy_0.8341.index',\n",
       " 'epoch_02_accuracy_0.8348.data-00000-of-00001',\n",
       " 'epoch_02_accuracy_0.8348.index',\n",
       " 'epoch_02_accuracy_0.8436.data-00000-of-00001',\n",
       " 'epoch_02_accuracy_0.8436.index',\n",
       " 'epoch_02_accuracy_0.8459.data-00000-of-00001',\n",
       " 'epoch_02_accuracy_0.8459.index']"
      ]
     },
     "execution_count": 5,
     "metadata": {},
     "output_type": "execute_result"
    }
   ],
   "source": [
    "os.listdir(checkpoint_dir)"
   ]
  },
  {
   "cell_type": "markdown",
   "metadata": {},
   "source": [
    "## Task 5: Load Weights"
   ]
  },
  {
   "cell_type": "code",
   "execution_count": 6,
   "metadata": {},
   "outputs": [
    {
     "name": "stdout",
     "output_type": "stream",
     "text": [
      "[2.374910878753662, 0.0955]\n"
     ]
    }
   ],
   "source": [
    "model = create_model()\n",
    "print(model.evaluate(x_test, y_test, verbose=False))"
   ]
  },
  {
   "cell_type": "code",
   "execution_count": 8,
   "metadata": {},
   "outputs": [
    {
     "name": "stdout",
     "output_type": "stream",
     "text": [
      "[0.4229256177186966, 0.85005]\n"
     ]
    }
   ],
   "source": [
    "model.load_weights('weights/epoch_02_accuracy_0.8348')\n",
    "print(model.evaluate(x_test, y_test, verbose=False))"
   ]
  },
  {
   "cell_type": "markdown",
   "metadata": {},
   "source": [
    "## Task 6: Saving Complete Model During Training"
   ]
  },
  {
   "cell_type": "code",
   "execution_count": 9,
   "metadata": {},
   "outputs": [
    {
     "name": "stdout",
     "output_type": "stream",
     "text": [
      "Train on 60000 samples, validate on 10000 samples\n",
      "Epoch 1/2\n",
      "60000/60000 [==============================] - 3s 42us/sample - loss: 0.6925 - accuracy: 0.7684 - val_loss: 0.5045 - val_accuracy: 0.8204\n",
      "Epoch 2/2\n",
      "60000/60000 [==============================] - 2s 34us/sample - loss: 0.4343 - accuracy: 0.8483 - val_loss: 0.4442 - val_accuracy: 0.8402\n"
     ]
    }
   ],
   "source": [
    "## save model weights\n",
    "models_dir = 'models/'\n",
    "\n",
    "# create model , so we don't use pre-trained model.\n",
    "model = create_model()\n",
    "\n",
    "_ = model.fit(x_train, y_train,\n",
    "            validation_data=(x_test, y_test),\n",
    "            epochs=2,\n",
    "            batch_size=512,\n",
    "            callbacks = [\n",
    "                tf.keras.callbacks.ModelCheckpoint(\n",
    "                                                os.path.join(models_dir, 'epoch_{epoch:02d}_accuracy_{val_accuracy:.4f}.h5'),\n",
    "                                                monitor='val_accuracy',\n",
    "                                                save_best_only=False,\n",
    "                                                save_weights_only=False\n",
    "                                                )\n",
    "                        ]\n",
    "             )"
   ]
  },
  {
   "cell_type": "code",
   "execution_count": 10,
   "metadata": {},
   "outputs": [
    {
     "data": {
      "text/plain": [
       "['epoch_01_accuracy_0.8204.h5', 'epoch_02_accuracy_0.8402.h5']"
      ]
     },
     "execution_count": 10,
     "metadata": {},
     "output_type": "execute_result"
    }
   ],
   "source": [
    "os.listdir(models_dir)"
   ]
  },
  {
   "cell_type": "markdown",
   "metadata": {},
   "source": [
    "## Task 7: Load Models"
   ]
  },
  {
   "cell_type": "code",
   "execution_count": 11,
   "metadata": {},
   "outputs": [
    {
     "name": "stdout",
     "output_type": "stream",
     "text": [
      "[2.4871178932189943, 0.0722]\n"
     ]
    }
   ],
   "source": [
    "model = create_model()\n",
    "print(model.evaluate(x_test, y_test, verbose=False))"
   ]
  },
  {
   "cell_type": "code",
   "execution_count": 13,
   "metadata": {},
   "outputs": [
    {
     "name": "stdout",
     "output_type": "stream",
     "text": [
      "[0.4442192112922668, 0.8402]\n",
      "Model: \"sequential_2\"\n",
      "_________________________________________________________________\n",
      "Layer (type)                 Output Shape              Param #   \n",
      "=================================================================\n",
      "dense_6 (Dense)              (None, 128)               100480    \n",
      "_________________________________________________________________\n",
      "dense_7 (Dense)              (None, 128)               16512     \n",
      "_________________________________________________________________\n",
      "dense_8 (Dense)              (None, 10)                1290      \n",
      "=================================================================\n",
      "Total params: 118,282\n",
      "Trainable params: 118,282\n",
      "Non-trainable params: 0\n",
      "_________________________________________________________________\n"
     ]
    }
   ],
   "source": [
    "model = tf.keras.models.load_model('models/epoch_02_accuracy_0.8402.h5')\n",
    "print(model.evaluate(x_test, y_test, verbose=False))\n",
    "model.summary()"
   ]
  },
  {
   "cell_type": "markdown",
   "metadata": {},
   "source": [
    "## Task 8: Manually Saving Weights and Models"
   ]
  },
  {
   "cell_type": "code",
   "execution_count": 14,
   "metadata": {},
   "outputs": [
    {
     "data": {
      "text/plain": [
       "['checkpoint',\n",
       " 'manually_saved.w.data-00000-of-00001',\n",
       " 'manually_saved.w.index']"
      ]
     },
     "execution_count": 14,
     "metadata": {},
     "output_type": "execute_result"
    }
   ],
   "source": [
    "## save model weights\n",
    "model.save_weights('temp/manually_saved.w')\n",
    "os.listdir('temp')"
   ]
  },
  {
   "cell_type": "code",
   "execution_count": 15,
   "metadata": {},
   "outputs": [
    {
     "data": {
      "text/plain": [
       "['checkpoint',\n",
       " 'manually_saved.h5',\n",
       " 'manually_saved.w.data-00000-of-00001',\n",
       " 'manually_saved.w.index']"
      ]
     },
     "execution_count": 15,
     "metadata": {},
     "output_type": "execute_result"
    }
   ],
   "source": [
    "## save entire model\n",
    "model.save('temp/manually_saved.h5')\n",
    "os.listdir('temp')"
   ]
  },
  {
   "cell_type": "markdown",
   "metadata": {},
   "source": [
    "## Task 9: Exporting and Restoring SavedModel Format"
   ]
  },
  {
   "cell_type": "code",
   "execution_count": 16,
   "metadata": {},
   "outputs": [
    {
     "name": "stderr",
     "output_type": "stream",
     "text": [
      "W0331 22:52:04.464663  4168 deprecation.py:506] From c:\\users\\administrator\\appdata\\local\\programs\\python\\python36\\lib\\site-packages\\tensorflow_core\\python\\ops\\resource_variable_ops.py:1781: calling BaseResourceVariable.__init__ (from tensorflow.python.ops.resource_variable_ops) with constraint is deprecated and will be removed in a future version.\n",
      "Instructions for updating:\n",
      "If using Keras pass *_constraint arguments to layers.\n"
     ]
    },
    {
     "data": {
      "text/plain": [
       "['assets', 'saved_model.pb', 'variables']"
      ]
     },
     "execution_count": 16,
     "metadata": {},
     "output_type": "execute_result"
    }
   ],
   "source": [
    "## if path to model.save('path') is directory(not a file path) it will save the model in that directory.\n",
    "model.save('model_name')\n",
    "os.listdir('model_name')"
   ]
  },
  {
   "cell_type": "code",
   "execution_count": 18,
   "metadata": {},
   "outputs": [
    {
     "data": {
      "text/plain": [
       "[0.44421920738220216, 0.8402]"
      ]
     },
     "execution_count": 18,
     "metadata": {},
     "output_type": "execute_result"
    }
   ],
   "source": [
    "## what if you have saved model and want to bring it as keras model !\n",
    "## you give dir path of your model to load_model(path).\n",
    "model = tf.keras.models.load_model('model_name')\n",
    "model.evaluate(x_test, y_test, verbose=False)"
   ]
  },
  {
   "cell_type": "code",
   "execution_count": null,
   "metadata": {},
   "outputs": [],
   "source": []
  }
 ],
 "metadata": {
  "kernelspec": {
   "display_name": "Python 3",
   "language": "python",
   "name": "python3"
  },
  "language_info": {
   "codemirror_mode": {
    "name": "ipython",
    "version": 3
   },
   "file_extension": ".py",
   "mimetype": "text/x-python",
   "name": "python",
   "nbconvert_exporter": "python",
   "pygments_lexer": "ipython3",
   "version": "3.6.8"
  }
 },
 "nbformat": 4,
 "nbformat_minor": 2
}
