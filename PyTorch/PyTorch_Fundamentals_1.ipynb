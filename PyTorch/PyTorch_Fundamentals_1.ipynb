{
  "nbformat": 4,
  "nbformat_minor": 0,
  "metadata": {
    "colab": {
      "provenance": [],
      "collapsed_sections": [
        "OIy66wnF1w80",
        "hEmSJUFN9W2M",
        "HeIgaHU25M2q",
        "dHPCCf_j6ORX",
        "0l8ilZih7Vkx",
        "VfHnHVXTAkU6",
        "cUB3CtQ7B6Cj",
        "PYxIyDfjEL8b",
        "bEtQRWoTHLDz",
        "RaFmVNgFGgjA",
        "La8TiRuAaLXL"
      ]
    },
    "kernelspec": {
      "name": "python3",
      "display_name": "Python 3"
    },
    "language_info": {
      "name": "python"
    }
  },
  "cells": [
    {
      "cell_type": "markdown",
      "source": [
        "## Ch-1.0 - PyTourch Fundamentals"
      ],
      "metadata": {
        "id": "077HpTpP1sL0"
      }
    },
    {
      "cell_type": "code",
      "source": [
        "## import python modules/library\n",
        "import torch\n",
        "print(torch.__version__)\n",
        "\n",
        "import numpy as np\n",
        "import pandas as pd\n",
        "import matplotlib.pyplot as plt\n"
      ],
      "metadata": {
        "id": "G-a0-BG-Zx8e",
        "colab": {
          "base_uri": "https://localhost:8080/"
        },
        "outputId": "d91f0720-c3ae-455b-856e-f2e070d8d1bb"
      },
      "execution_count": null,
      "outputs": [
        {
          "output_type": "stream",
          "name": "stdout",
          "text": [
            "1.13.1+cu116\n"
          ]
        }
      ]
    },
    {
      "cell_type": "markdown",
      "source": [
        "### Introduction to Tensor"
      ],
      "metadata": {
        "id": "OIy66wnF1w80"
      }
    },
    {
      "cell_type": "code",
      "source": [
        "## Introduction to Tensor\n",
        "scalar = torch.tensor(7)\n",
        "scalar"
      ],
      "metadata": {
        "colab": {
          "base_uri": "https://localhost:8080/"
        },
        "id": "3W452nVr1IIy",
        "outputId": "c59734e0-4d67-406c-bd7e-6af9058ada9b"
      },
      "execution_count": null,
      "outputs": [
        {
          "output_type": "execute_result",
          "data": {
            "text/plain": [
              "tensor(7)"
            ]
          },
          "metadata": {},
          "execution_count": 3
        }
      ]
    },
    {
      "cell_type": "code",
      "source": [
        "scalar.ndim, scalar.shape, scalar.dtype"
      ],
      "metadata": {
        "colab": {
          "base_uri": "https://localhost:8080/"
        },
        "id": "em04Vng11jdC",
        "outputId": "1f4148b9-0b1e-46d6-f7f8-c0563b5e23d7"
      },
      "execution_count": null,
      "outputs": [
        {
          "output_type": "execute_result",
          "data": {
            "text/plain": [
              "(0, torch.Size([]), torch.int64)"
            ]
          },
          "metadata": {},
          "execution_count": 4
        }
      ]
    },
    {
      "cell_type": "code",
      "source": [
        "scalar.item() # Get back tensor as Python int"
      ],
      "metadata": {
        "colab": {
          "base_uri": "https://localhost:8080/"
        },
        "id": "0HPVHGN32ZtT",
        "outputId": "a6d17899-3f72-40fb-db17-ca9846b3c261"
      },
      "execution_count": null,
      "outputs": [
        {
          "output_type": "execute_result",
          "data": {
            "text/plain": [
              "7"
            ]
          },
          "metadata": {},
          "execution_count": 5
        }
      ]
    },
    {
      "cell_type": "code",
      "source": [
        "#vector\n",
        "vector = torch.tensor([7,7])\n",
        "vector"
      ],
      "metadata": {
        "colab": {
          "base_uri": "https://localhost:8080/"
        },
        "id": "Ac53duZF2rDo",
        "outputId": "88e9d615-e243-4a03-be6d-0787c470c1c5"
      },
      "execution_count": null,
      "outputs": [
        {
          "output_type": "execute_result",
          "data": {
            "text/plain": [
              "tensor([7, 7])"
            ]
          },
          "metadata": {},
          "execution_count": 6
        }
      ]
    },
    {
      "cell_type": "code",
      "source": [
        "vector.ndim, vector.shape, vector.dtype"
      ],
      "metadata": {
        "colab": {
          "base_uri": "https://localhost:8080/"
        },
        "id": "SFGaNoSL2-3C",
        "outputId": "f1231c1c-5426-471c-8b59-baa9beec2a4a"
      },
      "execution_count": null,
      "outputs": [
        {
          "output_type": "execute_result",
          "data": {
            "text/plain": [
              "(1, torch.Size([2]), torch.int64)"
            ]
          },
          "metadata": {},
          "execution_count": 7
        }
      ]
    },
    {
      "cell_type": "code",
      "source": [
        "# Matrix\n",
        "\n",
        "matrix = torch.tensor([[7,8],\n",
        "                        [9,10]])\n",
        "matrix"
      ],
      "metadata": {
        "colab": {
          "base_uri": "https://localhost:8080/"
        },
        "id": "Ixk2L6ev3KOo",
        "outputId": "abbd49a6-45ab-4ac4-e7af-e753f6c4e11b"
      },
      "execution_count": null,
      "outputs": [
        {
          "output_type": "execute_result",
          "data": {
            "text/plain": [
              "tensor([[ 7,  8],\n",
              "        [ 9, 10]])"
            ]
          },
          "metadata": {},
          "execution_count": 8
        }
      ]
    },
    {
      "cell_type": "code",
      "source": [
        "matrix.ndim, matrix.shape, matrix.dtype"
      ],
      "metadata": {
        "colab": {
          "base_uri": "https://localhost:8080/"
        },
        "id": "hk6Igmz63dlj",
        "outputId": "dd31a44d-546a-4ee2-f6a1-16613878f423"
      },
      "execution_count": null,
      "outputs": [
        {
          "output_type": "execute_result",
          "data": {
            "text/plain": [
              "(2, torch.Size([2, 2]), torch.int64)"
            ]
          },
          "metadata": {},
          "execution_count": 9
        }
      ]
    },
    {
      "cell_type": "code",
      "source": [
        "# Tensor\n",
        "\n",
        "tensor1 = torch.tensor([[[1,2,3],\n",
        "                        [4,5,6],\n",
        "                        [7,8,9]]])\n",
        "tensor1"
      ],
      "metadata": {
        "colab": {
          "base_uri": "https://localhost:8080/"
        },
        "id": "F_0zpC_03s2r",
        "outputId": "8b2d00c1-64fc-46bd-d44e-011ee4015ca9"
      },
      "execution_count": null,
      "outputs": [
        {
          "output_type": "execute_result",
          "data": {
            "text/plain": [
              "tensor([[[1, 2, 3],\n",
              "         [4, 5, 6],\n",
              "         [7, 8, 9]]])"
            ]
          },
          "metadata": {},
          "execution_count": 10
        }
      ]
    },
    {
      "cell_type": "code",
      "source": [
        "tensor1.ndim, tensor1.shape, tensor1.dtype"
      ],
      "metadata": {
        "colab": {
          "base_uri": "https://localhost:8080/"
        },
        "id": "7QNh6ll04Tem",
        "outputId": "0121d940-e981-437c-ee14-a3a678340ac1"
      },
      "execution_count": null,
      "outputs": [
        {
          "output_type": "execute_result",
          "data": {
            "text/plain": [
              "(3, torch.Size([1, 3, 3]), torch.int64)"
            ]
          },
          "metadata": {},
          "execution_count": 11
        }
      ]
    },
    {
      "cell_type": "code",
      "source": [
        "tensor2 = torch.tensor([[[1,2,3],\n",
        "                        [4,5,6],\n",
        "                        [7,8,9]],\n",
        "                        \n",
        "                        [[11,12,13],\n",
        "                         [14,15,16],\n",
        "                         [17,18,19]]])\n",
        "tensor2"
      ],
      "metadata": {
        "colab": {
          "base_uri": "https://localhost:8080/"
        },
        "id": "hfnvgMo34WoW",
        "outputId": "24f4d33d-93b5-41fc-d4b5-45f1583b56df"
      },
      "execution_count": null,
      "outputs": [
        {
          "output_type": "execute_result",
          "data": {
            "text/plain": [
              "tensor([[[ 1,  2,  3],\n",
              "         [ 4,  5,  6],\n",
              "         [ 7,  8,  9]],\n",
              "\n",
              "        [[11, 12, 13],\n",
              "         [14, 15, 16],\n",
              "         [17, 18, 19]]])"
            ]
          },
          "metadata": {},
          "execution_count": 12
        }
      ]
    },
    {
      "cell_type": "code",
      "source": [
        "tensor2.ndim, tensor2.shape, tensor2.dtype"
      ],
      "metadata": {
        "colab": {
          "base_uri": "https://localhost:8080/"
        },
        "id": "3F-cxdg97DvT",
        "outputId": "bdd8161b-afa5-47fa-f95d-cd84b1539b20"
      },
      "execution_count": null,
      "outputs": [
        {
          "output_type": "execute_result",
          "data": {
            "text/plain": [
              "(3, torch.Size([2, 3, 3]), torch.int64)"
            ]
          },
          "metadata": {},
          "execution_count": 13
        }
      ]
    },
    {
      "cell_type": "markdown",
      "source": [
        "### Random Tensors\n",
        "\n",
        "Why random tensors?\n",
        "\n",
        "Random tensors are important because the way neural network learns is that it start with random numbers and looks at data and then updates random numbers so model fits the data better. And this process is repeated utill model achieves ability to fit/predict the data with some accuracy using final updated random numbers."
      ],
      "metadata": {
        "id": "hEmSJUFN9W2M"
      }
    },
    {
      "cell_type": "code",
      "source": [
        "# Create a random tensor of size (3, 4)\n",
        "\n",
        "random_tensor = torch.rand(size=(3,4))\n",
        "random_tensor"
      ],
      "metadata": {
        "colab": {
          "base_uri": "https://localhost:8080/"
        },
        "id": "SFiHWVC-87id",
        "outputId": "8622c4ad-0213-4cb0-ebe6-cd8a938fef0a"
      },
      "execution_count": null,
      "outputs": [
        {
          "output_type": "execute_result",
          "data": {
            "text/plain": [
              "tensor([[0.6931, 0.9836, 0.5706, 0.2903],\n",
              "        [0.3961, 0.2068, 0.0309, 0.3096],\n",
              "        [0.8584, 0.3492, 0.8236, 0.7502]])"
            ]
          },
          "metadata": {},
          "execution_count": 14
        }
      ]
    },
    {
      "cell_type": "code",
      "source": [
        "random_tensor.ndim, random_tensor.shape, random_tensor.dtype"
      ],
      "metadata": {
        "colab": {
          "base_uri": "https://localhost:8080/"
        },
        "id": "X3lqm2Zs-_pV",
        "outputId": "7d99a780-2598-4bea-ed95-d9968454b31b"
      },
      "execution_count": null,
      "outputs": [
        {
          "output_type": "execute_result",
          "data": {
            "text/plain": [
              "(2, torch.Size([3, 4]), torch.float32)"
            ]
          },
          "metadata": {},
          "execution_count": 15
        }
      ]
    },
    {
      "cell_type": "code",
      "source": [],
      "metadata": {
        "id": "Pc-GGW9a3i2E"
      },
      "execution_count": null,
      "outputs": []
    },
    {
      "cell_type": "code",
      "source": [
        "# Create a random tensor with simitlar shapre to an image tensor\n",
        "random_image_size_tensor = torch.rand(size=(224, 224, 3)) ## height, width, color channels (R, G, B)"
      ],
      "metadata": {
        "id": "V80FfBbI3jwP"
      },
      "execution_count": null,
      "outputs": []
    },
    {
      "cell_type": "code",
      "source": [
        "random_image_size_tensor.ndim, random_image_size_tensor.shape, random_image_size_tensor.dtype"
      ],
      "metadata": {
        "id": "nq56qgFrrc9V",
        "colab": {
          "base_uri": "https://localhost:8080/"
        },
        "outputId": "03c877ac-f318-4855-e6cd-1d9dbe28ef70"
      },
      "execution_count": null,
      "outputs": [
        {
          "output_type": "execute_result",
          "data": {
            "text/plain": [
              "(3, torch.Size([224, 224, 3]), torch.float32)"
            ]
          },
          "metadata": {},
          "execution_count": 18
        }
      ]
    },
    {
      "cell_type": "markdown",
      "source": [
        "### Tensor with Zeros and Ones"
      ],
      "metadata": {
        "id": "HeIgaHU25M2q"
      }
    },
    {
      "cell_type": "code",
      "source": [
        "# Create tensor with all zeros\n",
        "zeros = torch.zeros(size=(4,5))\n",
        "zeros, zeros.ndim, zeros.shape"
      ],
      "metadata": {
        "id": "KQB0W_zu_Hlc"
      },
      "execution_count": null,
      "outputs": []
    },
    {
      "cell_type": "code",
      "source": [
        "# Create tensor with all ones\n",
        "ones = torch.ones(size=(4,5))\n",
        "ones, ones.ndim, ones.shape"
      ],
      "metadata": {
        "colab": {
          "base_uri": "https://localhost:8080/"
        },
        "id": "sUK4RZlH4b0c",
        "outputId": "a6bf0195-20d7-4775-ff50-1b354de62aaa"
      },
      "execution_count": null,
      "outputs": [
        {
          "output_type": "execute_result",
          "data": {
            "text/plain": [
              "(tensor([[1., 1., 1., 1., 1.],\n",
              "         [1., 1., 1., 1., 1.],\n",
              "         [1., 1., 1., 1., 1.],\n",
              "         [1., 1., 1., 1., 1.]]), 2, torch.Size([4, 5]))"
            ]
          },
          "metadata": {},
          "execution_count": 24
        }
      ]
    },
    {
      "cell_type": "markdown",
      "source": [
        "### Creating range of tensor and tensor likes"
      ],
      "metadata": {
        "id": "dHPCCf_j6ORX"
      }
    },
    {
      "cell_type": "code",
      "source": [
        "arange = torch.arange(start=0,end=20, step=1)\n",
        "arange, arange.ndim, arange.shape"
      ],
      "metadata": {
        "colab": {
          "base_uri": "https://localhost:8080/"
        },
        "id": "esDTyqIj4fTJ",
        "outputId": "102e65e4-9007-4562-b8b4-bcd5002edbe8"
      },
      "execution_count": null,
      "outputs": [
        {
          "output_type": "execute_result",
          "data": {
            "text/plain": [
              "(tensor([ 0,  1,  2,  3,  4,  5,  6,  7,  8,  9, 10, 11, 12, 13, 14, 15, 16, 17,\n",
              "         18, 19]), 1, torch.Size([20]))"
            ]
          },
          "metadata": {},
          "execution_count": 37
        }
      ]
    },
    {
      "cell_type": "code",
      "source": [
        "tensor_like = torch.zeros_like(input=arange)\n",
        "tensor_like"
      ],
      "metadata": {
        "colab": {
          "base_uri": "https://localhost:8080/"
        },
        "id": "v4V2nDRP4f2H",
        "outputId": "2b918e2a-bdd3-4a22-f6ab-eab0d8561636"
      },
      "execution_count": null,
      "outputs": [
        {
          "output_type": "execute_result",
          "data": {
            "text/plain": [
              "tensor([0, 0, 0, 0, 0, 0, 0, 0, 0, 0, 0, 0, 0, 0, 0, 0, 0, 0, 0, 0])"
            ]
          },
          "metadata": {},
          "execution_count": 38
        }
      ]
    },
    {
      "cell_type": "markdown",
      "source": [
        "### Tensor datatype, shape and device:\n",
        "**Note** : data type is one of the 3 big erros that you will run into deep learning in general.\n",
        "1. Tensor is not correct datatype.\n",
        "2. Tensor is not in correct shape.\n",
        "3. Tensor is not on the correct device."
      ],
      "metadata": {
        "id": "0l8ilZih7Vkx"
      }
    },
    {
      "cell_type": "code",
      "source": [
        "tensor_ex = torch.tensor([3., 6., 9.], \n",
        "                            dtype=None,           # datatype of the tensor\n",
        "                            device=None,          # which device is the tensor on\n",
        "                            requires_grad=False)  # whehter or not to track gradients with this tensor's operations\n",
        "tensor_ex, tensor_ex.dtype, tensor_ex.shape, tensor_ex.device"
      ],
      "metadata": {
        "colab": {
          "base_uri": "https://localhost:8080/"
        },
        "id": "88rjwbXf4gdo",
        "outputId": "e9a3f04a-5780-4b53-e205-d62b34f59875"
      },
      "execution_count": null,
      "outputs": [
        {
          "output_type": "execute_result",
          "data": {
            "text/plain": [
              "(tensor([3., 6., 9.]), torch.float32, torch.Size([3]), device(type='cpu'))"
            ]
          },
          "metadata": {},
          "execution_count": 49
        }
      ]
    },
    {
      "cell_type": "markdown",
      "source": [
        "### Tensor Operations:\n",
        "\n",
        "1. Addition\n",
        "2. Subtraction\n",
        "3. Multiplication\n",
        "4. Division\n",
        "5. Matrix Multiplication\n",
        "\n",
        " Note: you can also use in-build PyTorch functions for tensor operation."
      ],
      "metadata": {
        "id": "VfHnHVXTAkU6"
      }
    },
    {
      "cell_type": "code",
      "source": [
        "#addition\n",
        "tensor = torch.tensor([1,2,4])\n",
        "tensor + 10"
      ],
      "metadata": {
        "colab": {
          "base_uri": "https://localhost:8080/"
        },
        "id": "xCSCevPD7SOS",
        "outputId": "12980d8d-307c-4475-cee3-cac76e9f4550"
      },
      "execution_count": null,
      "outputs": [
        {
          "output_type": "execute_result",
          "data": {
            "text/plain": [
              "tensor([11, 12, 14])"
            ]
          },
          "metadata": {},
          "execution_count": 52
        }
      ]
    },
    {
      "cell_type": "code",
      "source": [
        "# multiplication\n",
        "tensor * 10"
      ],
      "metadata": {
        "colab": {
          "base_uri": "https://localhost:8080/"
        },
        "id": "zCiGO2VA7SqT",
        "outputId": "7efa2b88-a68e-411f-eb32-fedee58d8ba1"
      },
      "execution_count": null,
      "outputs": [
        {
          "output_type": "execute_result",
          "data": {
            "text/plain": [
              "tensor([10, 20, 40])"
            ]
          },
          "metadata": {},
          "execution_count": 53
        }
      ]
    },
    {
      "cell_type": "code",
      "source": [
        "#subtract\n",
        "tensor - 10"
      ],
      "metadata": {
        "colab": {
          "base_uri": "https://localhost:8080/"
        },
        "id": "lbu0v3hP7TDi",
        "outputId": "5779f2e3-e909-42f7-f864-5919a6c99a14"
      },
      "execution_count": null,
      "outputs": [
        {
          "output_type": "execute_result",
          "data": {
            "text/plain": [
              "tensor([-9, -8, -6])"
            ]
          },
          "metadata": {},
          "execution_count": 54
        }
      ]
    },
    {
      "cell_type": "markdown",
      "source": [
        "### Matrix/Tensor Mutliplication:\n",
        "\n",
        "Two main ways:\n",
        "1. Element-wise multiplication\n",
        "2. Matrix multiplication or Dot product"
      ],
      "metadata": {
        "id": "cUB3CtQ7B6Cj"
      }
    },
    {
      "cell_type": "code",
      "source": [
        "# Element-wise multiplication\n",
        "tensor"
      ],
      "metadata": {
        "colab": {
          "base_uri": "https://localhost:8080/"
        },
        "id": "DbBsQ5cW7TLH",
        "outputId": "54b66da1-331f-47d8-a4b5-db1b791219e5"
      },
      "execution_count": null,
      "outputs": [
        {
          "output_type": "execute_result",
          "data": {
            "text/plain": [
              "tensor([1, 2, 4])"
            ]
          },
          "metadata": {},
          "execution_count": 57
        }
      ]
    },
    {
      "cell_type": "code",
      "source": [
        "tensor * tensor"
      ],
      "metadata": {
        "colab": {
          "base_uri": "https://localhost:8080/"
        },
        "id": "vRWlww9A7TSj",
        "outputId": "9173c834-c5a4-4405-9b5d-89ae8173b5e5"
      },
      "execution_count": null,
      "outputs": [
        {
          "output_type": "execute_result",
          "data": {
            "text/plain": [
              "tensor([ 1,  4, 16])"
            ]
          },
          "metadata": {},
          "execution_count": 58
        }
      ]
    },
    {
      "cell_type": "code",
      "source": [
        "# dot product - you can use `torch.matmul()` or `torch.dot()` function.\n",
        "torch.matmul(tensor, tensor)"
      ],
      "metadata": {
        "colab": {
          "base_uri": "https://localhost:8080/"
        },
        "id": "-MSD2pR17TZb",
        "outputId": "87d1d94c-a663-472a-9d78-7b40b1a0bf79"
      },
      "execution_count": null,
      "outputs": [
        {
          "output_type": "execute_result",
          "data": {
            "text/plain": [
              "tensor(21)"
            ]
          },
          "metadata": {},
          "execution_count": 64
        }
      ]
    },
    {
      "cell_type": "code",
      "source": [
        "torch.dot(tensor, tensor)"
      ],
      "metadata": {
        "colab": {
          "base_uri": "https://localhost:8080/"
        },
        "id": "YklRaAVw7TgL",
        "outputId": "647fd53d-e585-4708-8f47-1a39e9ffa2f8"
      },
      "execution_count": null,
      "outputs": [
        {
          "output_type": "execute_result",
          "data": {
            "text/plain": [
              "tensor(21)"
            ]
          },
          "metadata": {},
          "execution_count": 62
        }
      ]
    },
    {
      "cell_type": "markdown",
      "source": [
        "### Tensor aggregations: \n",
        "1. min\n",
        "2. max\n",
        "3. mean (only works with floating points)\n",
        "4. sum\n"
      ],
      "metadata": {
        "id": "PYxIyDfjEL8b"
      }
    },
    {
      "cell_type": "code",
      "source": [
        "torch.min(tensor)"
      ],
      "metadata": {
        "colab": {
          "base_uri": "https://localhost:8080/"
        },
        "id": "US7u1i-8DN3R",
        "outputId": "9d302bc2-d9c9-4065-f667-3d3f1beb1fa9"
      },
      "execution_count": null,
      "outputs": [
        {
          "output_type": "execute_result",
          "data": {
            "text/plain": [
              "tensor(1)"
            ]
          },
          "metadata": {},
          "execution_count": 65
        }
      ]
    },
    {
      "cell_type": "code",
      "source": [
        "tensor.min()"
      ],
      "metadata": {
        "colab": {
          "base_uri": "https://localhost:8080/"
        },
        "id": "JE9glwLUGXHy",
        "outputId": "1f436396-79ee-4bb2-f8dd-4e512d1f73b2"
      },
      "execution_count": null,
      "outputs": [
        {
          "output_type": "execute_result",
          "data": {
            "text/plain": [
              "tensor(1)"
            ]
          },
          "metadata": {},
          "execution_count": 78
        }
      ]
    },
    {
      "cell_type": "code",
      "source": [
        "torch.max(tensor)"
      ],
      "metadata": {
        "colab": {
          "base_uri": "https://localhost:8080/"
        },
        "id": "x5-hdFQqDQFg",
        "outputId": "b0f7bd41-12dc-4f01-8c06-cfbecaf05045"
      },
      "execution_count": null,
      "outputs": [
        {
          "output_type": "execute_result",
          "data": {
            "text/plain": [
              "tensor(4)"
            ]
          },
          "metadata": {},
          "execution_count": 66
        }
      ]
    },
    {
      "cell_type": "code",
      "source": [
        "tensor.max()"
      ],
      "metadata": {
        "colab": {
          "base_uri": "https://localhost:8080/"
        },
        "id": "Djb82GnPGZyf",
        "outputId": "b690146d-14c7-4319-a8b2-4546c73bf5d6"
      },
      "execution_count": null,
      "outputs": [
        {
          "output_type": "execute_result",
          "data": {
            "text/plain": [
              "tensor(4)"
            ]
          },
          "metadata": {},
          "execution_count": 79
        }
      ]
    },
    {
      "cell_type": "code",
      "source": [
        "torch.mean(tensor)  ## torch.mean() function requires tensor to be float32 datatype."
      ],
      "metadata": {
        "colab": {
          "base_uri": "https://localhost:8080/",
          "height": 167
        },
        "id": "80qL15j0DSsV",
        "outputId": "5ecc594f-1f0f-45fa-aa9d-03fd46025953"
      },
      "execution_count": null,
      "outputs": [
        {
          "output_type": "error",
          "ename": "RuntimeError",
          "evalue": "ignored",
          "traceback": [
            "\u001b[0;31m---------------------------------------------------------------------------\u001b[0m",
            "\u001b[0;31mRuntimeError\u001b[0m                              Traceback (most recent call last)",
            "\u001b[0;32m<ipython-input-70-eb2d2f6ed15f>\u001b[0m in \u001b[0;36m<module>\u001b[0;34m\u001b[0m\n\u001b[0;32m----> 1\u001b[0;31m \u001b[0mtorch\u001b[0m\u001b[0;34m.\u001b[0m\u001b[0mmean\u001b[0m\u001b[0;34m(\u001b[0m\u001b[0mtensor\u001b[0m\u001b[0;34m)\u001b[0m\u001b[0;34m\u001b[0m\u001b[0;34m\u001b[0m\u001b[0m\n\u001b[0m",
            "\u001b[0;31mRuntimeError\u001b[0m: mean(): could not infer output dtype. Input dtype must be either a floating point or complex dtype. Got: Long"
          ]
        }
      ]
    },
    {
      "cell_type": "code",
      "source": [
        "torch.mean(tensor.type(torch.float32))"
      ],
      "metadata": {
        "colab": {
          "base_uri": "https://localhost:8080/"
        },
        "id": "BBD9onfODUZ5",
        "outputId": "d8b38d7f-1137-4fb4-b0e8-a4b5834145c6"
      },
      "execution_count": null,
      "outputs": [
        {
          "output_type": "execute_result",
          "data": {
            "text/plain": [
              "tensor(2.3333)"
            ]
          },
          "metadata": {},
          "execution_count": 75
        }
      ]
    },
    {
      "cell_type": "code",
      "source": [
        "torch.sum(tensor)"
      ],
      "metadata": {
        "colab": {
          "base_uri": "https://localhost:8080/"
        },
        "id": "gE9g-5AGDUx5",
        "outputId": "1430d96d-e6cc-4d7a-c2e2-2ad16a8532b9"
      },
      "execution_count": null,
      "outputs": [
        {
          "output_type": "execute_result",
          "data": {
            "text/plain": [
              "tensor(7)"
            ]
          },
          "metadata": {},
          "execution_count": 76
        }
      ]
    },
    {
      "cell_type": "code",
      "source": [
        "tensor.sum()"
      ],
      "metadata": {
        "colab": {
          "base_uri": "https://localhost:8080/"
        },
        "id": "r_jq6uPgDU7W",
        "outputId": "dd8fb8f0-c35e-4bc6-9a52-72cc6f0c8c5c"
      },
      "execution_count": null,
      "outputs": [
        {
          "output_type": "execute_result",
          "data": {
            "text/plain": [
              "tensor(7)"
            ]
          },
          "metadata": {},
          "execution_count": 77
        }
      ]
    },
    {
      "cell_type": "markdown",
      "source": [
        "### Finding positional max and min of the tensor"
      ],
      "metadata": {
        "id": "bEtQRWoTHLDz"
      }
    },
    {
      "cell_type": "code",
      "source": [
        "tensor_x = torch.arange(start=0,end=100)"
      ],
      "metadata": {
        "id": "00cR5_-wHPv4"
      },
      "execution_count": null,
      "outputs": []
    },
    {
      "cell_type": "code",
      "source": [
        "tensor_x.argmin() ## gives index of the minimum value in the tensor"
      ],
      "metadata": {
        "colab": {
          "base_uri": "https://localhost:8080/"
        },
        "id": "0DGAX8GTHPy0",
        "outputId": "5209af2a-9c03-4e17-b886-f27836a7916e"
      },
      "execution_count": null,
      "outputs": [
        {
          "output_type": "execute_result",
          "data": {
            "text/plain": [
              "tensor(0)"
            ]
          },
          "metadata": {},
          "execution_count": 81
        }
      ]
    },
    {
      "cell_type": "code",
      "source": [
        "torch.argmin(tensor_x)"
      ],
      "metadata": {
        "colab": {
          "base_uri": "https://localhost:8080/"
        },
        "id": "8a9NGwIjHu4T",
        "outputId": "839e0fb2-0f60-4b95-adff-fd806307aaac"
      },
      "execution_count": null,
      "outputs": [
        {
          "output_type": "execute_result",
          "data": {
            "text/plain": [
              "tensor(0)"
            ]
          },
          "metadata": {},
          "execution_count": 84
        }
      ]
    },
    {
      "cell_type": "code",
      "source": [
        "tensor_x.argmax() ## gives index of the maximum value in the tesnsor,"
      ],
      "metadata": {
        "colab": {
          "base_uri": "https://localhost:8080/"
        },
        "id": "ZFuNjFzEHi5N",
        "outputId": "4c0ccdcf-741b-4393-e5e4-913682a8aa28"
      },
      "execution_count": null,
      "outputs": [
        {
          "output_type": "execute_result",
          "data": {
            "text/plain": [
              "tensor(99)"
            ]
          },
          "metadata": {},
          "execution_count": 82
        }
      ]
    },
    {
      "cell_type": "code",
      "source": [
        "torch.argmax(tensor_x)"
      ],
      "metadata": {
        "colab": {
          "base_uri": "https://localhost:8080/"
        },
        "id": "z6BZBbM9Hi7v",
        "outputId": "05299561-e79e-4c52-877a-2167caad7f2d"
      },
      "execution_count": null,
      "outputs": [
        {
          "output_type": "execute_result",
          "data": {
            "text/plain": [
              "tensor(99)"
            ]
          },
          "metadata": {},
          "execution_count": 85
        }
      ]
    },
    {
      "cell_type": "markdown",
      "source": [
        "### Other Tensor operations:\n",
        "1. Reshaping - changing shape of the tensor.\n",
        "2. View - return a view of the input tensor of certain shape , but keep the same memory as the original tensor.\n",
        "3. Stacking (horizontal, vertical) - combining multiple tesnors.\n",
        "4. squeezing - removes all `1` dimension from tensor.\n",
        "5. unsqueezing - adds a `1` dimension to a tensor.\n",
        "6. Premute - return a view of the tensor with permuted/swapped in certain way."
      ],
      "metadata": {
        "id": "RaFmVNgFGgjA"
      }
    },
    {
      "cell_type": "code",
      "source": [
        "x = torch.arange(start=1, end=13)"
      ],
      "metadata": {
        "id": "-RNuITqeDVFL"
      },
      "execution_count": null,
      "outputs": []
    },
    {
      "cell_type": "code",
      "source": [
        "x, x.shape"
      ],
      "metadata": {
        "colab": {
          "base_uri": "https://localhost:8080/"
        },
        "id": "jXMgWxjODVMp",
        "outputId": "87046a38-e241-4c6b-bdf5-72c1541ddaf4"
      },
      "execution_count": null,
      "outputs": [
        {
          "output_type": "execute_result",
          "data": {
            "text/plain": [
              "(tensor([ 1,  2,  3,  4,  5,  6,  7,  8,  9, 10, 11, 12]), torch.Size([12]))"
            ]
          },
          "metadata": {},
          "execution_count": 101
        }
      ]
    },
    {
      "cell_type": "code",
      "source": [
        "# reshape - has to be comaptible with original size of the tensor.\n",
        "x_reshape = x.reshape(2,6)\n",
        "x_reshape"
      ],
      "metadata": {
        "colab": {
          "base_uri": "https://localhost:8080/"
        },
        "id": "b7-8MiLrDVUK",
        "outputId": "4cae1716-b9dc-4cde-82ae-abb4bbf6b046"
      },
      "execution_count": null,
      "outputs": [
        {
          "output_type": "execute_result",
          "data": {
            "text/plain": [
              "tensor([[ 1,  2,  3,  4,  5,  6],\n",
              "        [ 7,  8,  9, 10, 11, 12]])"
            ]
          },
          "metadata": {},
          "execution_count": 102
        }
      ]
    },
    {
      "cell_type": "code",
      "source": [
        "# Change the view - here changing z changes x , because a view of a tensor shares the same memory as the original input\n",
        "z = x.view(1, 12)\n",
        "z, z.shape\n"
      ],
      "metadata": {
        "colab": {
          "base_uri": "https://localhost:8080/"
        },
        "id": "h7CadsAXDVcJ",
        "outputId": "c203ae06-6b59-4fa9-ac27-1aaee89a6fca"
      },
      "execution_count": null,
      "outputs": [
        {
          "output_type": "execute_result",
          "data": {
            "text/plain": [
              "(tensor([[ 1,  2,  3,  4,  5,  6,  7,  8,  9, 10, 11, 12]]),\n",
              " torch.Size([1, 12]))"
            ]
          },
          "metadata": {},
          "execution_count": 105
        }
      ]
    },
    {
      "cell_type": "code",
      "source": [
        "# the first element of the x and z is changed\n",
        "z[:,0] = 5\n",
        "x, z"
      ],
      "metadata": {
        "colab": {
          "base_uri": "https://localhost:8080/"
        },
        "id": "aLpHAiXs7Tum",
        "outputId": "19f942ce-defa-4862-8ec3-5273a92211d3"
      },
      "execution_count": null,
      "outputs": [
        {
          "output_type": "execute_result",
          "data": {
            "text/plain": [
              "(tensor([ 5,  2,  3,  4,  5,  6,  7,  8,  9, 10, 11, 12]),\n",
              " tensor([[ 5,  2,  3,  4,  5,  6,  7,  8,  9, 10, 11, 12]]))"
            ]
          },
          "metadata": {},
          "execution_count": 108
        }
      ]
    },
    {
      "cell_type": "code",
      "source": [
        "# stack tensors\n",
        "\n",
        "x_stacked = torch.stack([x,x,x,x], dim=0) # stacks rows\n",
        "x_stacked"
      ],
      "metadata": {
        "colab": {
          "base_uri": "https://localhost:8080/"
        },
        "id": "pfez3iqE4gvf",
        "outputId": "ad8df27e-fc3c-4df2-eebf-2224cf79c709"
      },
      "execution_count": null,
      "outputs": [
        {
          "output_type": "execute_result",
          "data": {
            "text/plain": [
              "tensor([[ 5,  2,  3,  4,  5,  6,  7,  8,  9, 10, 11, 12],\n",
              "        [ 5,  2,  3,  4,  5,  6,  7,  8,  9, 10, 11, 12],\n",
              "        [ 5,  2,  3,  4,  5,  6,  7,  8,  9, 10, 11, 12],\n",
              "        [ 5,  2,  3,  4,  5,  6,  7,  8,  9, 10, 11, 12]])"
            ]
          },
          "metadata": {},
          "execution_count": 114
        }
      ]
    },
    {
      "cell_type": "code",
      "source": [
        "x_stacked = torch.stack([x,x,x,x], dim=1) # stacks rows\n",
        "x_stacked"
      ],
      "metadata": {
        "colab": {
          "base_uri": "https://localhost:8080/"
        },
        "id": "WLtldIsERnjA",
        "outputId": "24cc3c19-8cf2-47fb-908b-2cbabe1522a9"
      },
      "execution_count": null,
      "outputs": [
        {
          "output_type": "execute_result",
          "data": {
            "text/plain": [
              "tensor([[ 5,  5,  5,  5],\n",
              "        [ 2,  2,  2,  2],\n",
              "        [ 3,  3,  3,  3],\n",
              "        [ 4,  4,  4,  4],\n",
              "        [ 5,  5,  5,  5],\n",
              "        [ 6,  6,  6,  6],\n",
              "        [ 7,  7,  7,  7],\n",
              "        [ 8,  8,  8,  8],\n",
              "        [ 9,  9,  9,  9],\n",
              "        [10, 10, 10, 10],\n",
              "        [11, 11, 11, 11],\n",
              "        [12, 12, 12, 12]])"
            ]
          },
          "metadata": {},
          "execution_count": 130
        }
      ]
    },
    {
      "cell_type": "code",
      "source": [
        "# squeeze tensor dimension - torch.sqeeze() - removes all single dimensions from a tensor"
      ],
      "metadata": {
        "id": "5oL5WevAR4c0"
      },
      "execution_count": null,
      "outputs": []
    },
    {
      "cell_type": "code",
      "source": [
        "x_reshape = x.reshape(1, 12)\n",
        "print(f\"previous tensor: {x_reshape}\")\n",
        "print(f\"previous tensor shape: {x_reshape.shape}\")"
      ],
      "metadata": {
        "colab": {
          "base_uri": "https://localhost:8080/"
        },
        "id": "txaZxhXpR4iy",
        "outputId": "195eeb33-a399-4944-8c1b-3e95234ae8fc"
      },
      "execution_count": null,
      "outputs": [
        {
          "output_type": "stream",
          "name": "stdout",
          "text": [
            "previous tensor: tensor([[ 5,  2,  3,  4,  5,  6,  7,  8,  9, 10, 11, 12]])\n",
            "previous tensor shape: torch.Size([1, 12])\n"
          ]
        }
      ]
    },
    {
      "cell_type": "code",
      "source": [
        "x_squeeze = x_reshape.squeeze()\n",
        "print(f\"squeezed tensor: {x_squeeze}\")\n",
        "print(f\"squeezed tensor shape: {x_squeeze.shape}\")"
      ],
      "metadata": {
        "colab": {
          "base_uri": "https://localhost:8080/"
        },
        "id": "o6ZtHwEjR4oT",
        "outputId": "f27c9901-e244-42b6-aa34-d085c8f25bb6"
      },
      "execution_count": null,
      "outputs": [
        {
          "output_type": "stream",
          "name": "stdout",
          "text": [
            "previous tensor: tensor([ 5,  2,  3,  4,  5,  6,  7,  8,  9, 10, 11, 12])\n",
            "previous tensor shape: torch.Size([12])\n"
          ]
        }
      ]
    },
    {
      "cell_type": "code",
      "source": [
        "# unsqueeze tensor dimension - torch.unsqeeze() - adds single dimension to a tensor at given specific dimension."
      ],
      "metadata": {
        "id": "MyO2iDkCR4t1"
      },
      "execution_count": null,
      "outputs": []
    },
    {
      "cell_type": "code",
      "source": [
        "print(f\"previous tensor: {x_squeeze}\")\n",
        "print(f\"previous tensor shape: {x_squeeze.shape}\")\n",
        "\n",
        "x_unsqueezed = x_squeeze.unsqueeze(dim=0)\n",
        "\n",
        "print(f\"un_squeezed tensor: {x_unsqueezed}\")\n",
        "print(f\"un_squeezed tensor shape: {x_unsqueezed.shape}\")"
      ],
      "metadata": {
        "colab": {
          "base_uri": "https://localhost:8080/"
        },
        "id": "881eZegfR4zF",
        "outputId": "594ca90a-1191-45b3-896e-8dfc541bbc9e"
      },
      "execution_count": null,
      "outputs": [
        {
          "output_type": "stream",
          "name": "stdout",
          "text": [
            "previous tensor: tensor([ 5,  2,  3,  4,  5,  6,  7,  8,  9, 10, 11, 12])\n",
            "previous tensor shape: torch.Size([12])\n",
            "un_squeezed tensor: tensor([[ 5,  2,  3,  4,  5,  6,  7,  8,  9, 10, 11, 12]])\n",
            "un_squeezed tensor shape: torch.Size([1, 12])\n"
          ]
        }
      ]
    },
    {
      "cell_type": "code",
      "source": [
        "# permute - torch.permute() - rearranges the dimension of a tensor in a specified order."
      ],
      "metadata": {
        "id": "OEy6XwxqR43s"
      },
      "execution_count": null,
      "outputs": []
    },
    {
      "cell_type": "code",
      "source": [
        " x = torch.randn(1, 2, 3)\n",
        " x, x.size()"
      ],
      "metadata": {
        "colab": {
          "base_uri": "https://localhost:8080/"
        },
        "id": "w6Nn-eQ0XXrw",
        "outputId": "5066c3dc-a458-496e-e3fd-3a6f652bb1fe"
      },
      "execution_count": null,
      "outputs": [
        {
          "output_type": "execute_result",
          "data": {
            "text/plain": [
              "(tensor([[[-0.1009, -0.6039,  1.5722],\n",
              "          [ 0.7990, -2.5069,  0.4780]]]), torch.Size([1, 2, 3]))"
            ]
          },
          "metadata": {},
          "execution_count": 179
        }
      ]
    },
    {
      "cell_type": "code",
      "source": [
        "torch.permute(x, (2, 1, 0)), torch.permute(x, (2, 1, 0)).size()"
      ],
      "metadata": {
        "colab": {
          "base_uri": "https://localhost:8080/"
        },
        "id": "xj-en_pTXXxa",
        "outputId": "48c6969d-b9b4-4eee-c5c7-a2e900eade72"
      },
      "execution_count": null,
      "outputs": [
        {
          "output_type": "execute_result",
          "data": {
            "text/plain": [
              "(tensor([[[-0.1009],\n",
              "          [ 0.7990]],\n",
              " \n",
              "         [[-0.6039],\n",
              "          [-2.5069]],\n",
              " \n",
              "         [[ 1.5722],\n",
              "          [ 0.4780]]]), torch.Size([3, 2, 1]))"
            ]
          },
          "metadata": {},
          "execution_count": 180
        }
      ]
    },
    {
      "cell_type": "markdown",
      "source": [
        "### Tensor indexing"
      ],
      "metadata": {
        "id": "La8TiRuAaLXL"
      }
    },
    {
      "cell_type": "code",
      "source": [
        "x = torch.arange(start=1, end=10).reshape(1,3,3)\n",
        "x, x.shape"
      ],
      "metadata": {
        "colab": {
          "base_uri": "https://localhost:8080/"
        },
        "id": "n6gbGjQ1XX4g",
        "outputId": "cbf3fecf-c0b2-4694-d2dc-84cf74953fc6"
      },
      "execution_count": null,
      "outputs": [
        {
          "output_type": "execute_result",
          "data": {
            "text/plain": [
              "(tensor([[[1, 2, 3],\n",
              "          [4, 5, 6],\n",
              "          [7, 8, 9]]]), torch.Size([1, 3, 3]))"
            ]
          },
          "metadata": {},
          "execution_count": 184
        }
      ]
    },
    {
      "cell_type": "code",
      "source": [
        "x[0]"
      ],
      "metadata": {
        "colab": {
          "base_uri": "https://localhost:8080/"
        },
        "id": "gkT0ujsyXX_G",
        "outputId": "827e9ebd-6fb2-42bb-ef60-b0654662b0ce"
      },
      "execution_count": null,
      "outputs": [
        {
          "output_type": "execute_result",
          "data": {
            "text/plain": [
              "tensor([[1, 2, 3],\n",
              "        [4, 5, 6],\n",
              "        [7, 8, 9]])"
            ]
          },
          "metadata": {},
          "execution_count": 190
        }
      ]
    },
    {
      "cell_type": "code",
      "source": [
        "x[0][0]"
      ],
      "metadata": {
        "colab": {
          "base_uri": "https://localhost:8080/"
        },
        "id": "2Sf4RblqR48v",
        "outputId": "9af988ff-712a-4fd1-b8b0-d72868b87c13"
      },
      "execution_count": null,
      "outputs": [
        {
          "output_type": "execute_result",
          "data": {
            "text/plain": [
              "tensor([1, 2, 3])"
            ]
          },
          "metadata": {},
          "execution_count": 194
        }
      ]
    },
    {
      "cell_type": "code",
      "source": [
        "x[0][0][0]"
      ],
      "metadata": {
        "colab": {
          "base_uri": "https://localhost:8080/"
        },
        "id": "fJ3ecIBFR4_z",
        "outputId": "122ec507-d0ce-4719-d39f-7fde6336cd5b"
      },
      "execution_count": null,
      "outputs": [
        {
          "output_type": "execute_result",
          "data": {
            "text/plain": [
              "tensor(1)"
            ]
          },
          "metadata": {},
          "execution_count": 195
        }
      ]
    },
    {
      "cell_type": "markdown",
      "source": [
        "### Reproducibility"
      ],
      "metadata": {
        "id": "mmDwqEmXbxp7"
      }
    },
    {
      "cell_type": "code",
      "source": [
        "random_tensor_A = torch.rand(size=(3,4))\n",
        "random_tensor_B = torch.rand(size=(3, 4))"
      ],
      "metadata": {
        "id": "dnhzBzzpbwVM"
      },
      "execution_count": null,
      "outputs": []
    },
    {
      "cell_type": "code",
      "source": [
        "print(random_tensor_A)\n",
        "print(random_tensor_B)\n",
        "print(random_tensor_A == random_tensor_B)"
      ],
      "metadata": {
        "colab": {
          "base_uri": "https://localhost:8080/"
        },
        "id": "gw_Xww--a6N-",
        "outputId": "c3c9b7c8-0d50-4530-d116-b6dde7e25bce"
      },
      "execution_count": null,
      "outputs": [
        {
          "output_type": "stream",
          "name": "stdout",
          "text": [
            "tensor([[0.0929, 0.0102, 0.9131, 0.2925],\n",
            "        [0.4987, 0.4490, 0.6658, 0.8526],\n",
            "        [0.2600, 0.5871, 0.5744, 0.4540]])\n",
            "tensor([[0.7134, 0.3276, 0.6047, 0.3428],\n",
            "        [0.8955, 0.2944, 0.0082, 0.2565],\n",
            "        [0.8787, 0.9115, 0.7083, 0.5863]])\n",
            "tensor([[False, False, False, False],\n",
            "        [False, False, False, False],\n",
            "        [False, False, False, False]])\n"
          ]
        }
      ]
    },
    {
      "cell_type": "code",
      "source": [
        "RANDOM_SEED = 42\n",
        "torch.manual_seed(RANDOM_SEED)"
      ],
      "metadata": {
        "colab": {
          "base_uri": "https://localhost:8080/"
        },
        "id": "T5V8IR7aa6Sz",
        "outputId": "ef223657-e688-47b7-8ef6-1d06ea09d0b9"
      },
      "execution_count": null,
      "outputs": [
        {
          "output_type": "execute_result",
          "data": {
            "text/plain": [
              "<torch._C.Generator at 0x7fa18829dbf0>"
            ]
          },
          "metadata": {},
          "execution_count": 212
        }
      ]
    },
    {
      "cell_type": "code",
      "source": [
        "random_tensor_C = torch.rand(size=(3,4))\n",
        "\n",
        "torch.manual_seed(RANDOM_SEED)\n",
        "random_tensor_D = torch.rand(size=(3, 4))"
      ],
      "metadata": {
        "id": "BPEKWIhLa6aL"
      },
      "execution_count": null,
      "outputs": []
    },
    {
      "cell_type": "code",
      "source": [
        "print(random_tensor_C)\n",
        "print(random_tensor_D)\n",
        "print(random_tensor_C == random_tensor_D)"
      ],
      "metadata": {
        "colab": {
          "base_uri": "https://localhost:8080/"
        },
        "id": "W4JAHtyya6ks",
        "outputId": "92ddf79d-aec0-4f09-f024-a148f9b91225"
      },
      "execution_count": null,
      "outputs": [
        {
          "output_type": "stream",
          "name": "stdout",
          "text": [
            "tensor([[0.8823, 0.9150, 0.3829, 0.9593],\n",
            "        [0.3904, 0.6009, 0.2566, 0.7936],\n",
            "        [0.9408, 0.1332, 0.9346, 0.5936]])\n",
            "tensor([[0.8823, 0.9150, 0.3829, 0.9593],\n",
            "        [0.3904, 0.6009, 0.2566, 0.7936],\n",
            "        [0.9408, 0.1332, 0.9346, 0.5936]])\n",
            "tensor([[True, True, True, True],\n",
            "        [True, True, True, True],\n",
            "        [True, True, True, True]])\n"
          ]
        }
      ]
    },
    {
      "cell_type": "code",
      "source": [],
      "metadata": {
        "id": "gH_Obr8ca6qh"
      },
      "execution_count": null,
      "outputs": []
    },
    {
      "cell_type": "code",
      "source": [],
      "metadata": {
        "id": "e5-yYlKwa6wE"
      },
      "execution_count": null,
      "outputs": []
    },
    {
      "cell_type": "code",
      "source": [],
      "metadata": {
        "id": "xuSK4fQGa61d"
      },
      "execution_count": null,
      "outputs": []
    },
    {
      "cell_type": "code",
      "source": [],
      "metadata": {
        "id": "izT48O2Ga66-"
      },
      "execution_count": null,
      "outputs": []
    }
  ]
}